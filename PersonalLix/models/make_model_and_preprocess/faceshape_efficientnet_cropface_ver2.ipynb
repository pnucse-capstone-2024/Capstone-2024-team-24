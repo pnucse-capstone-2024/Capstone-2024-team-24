{
  "cells": [
    {
      "cell_type": "code",
      "execution_count": 1,
      "metadata": {
        "colab": {
          "base_uri": "https://localhost:8080/",
          "height": 35
        },
        "id": "OK8SEj2eiYWm",
        "outputId": "bc9465ff-feec-4f53-8966-2be2ca0307ce"
      },
      "outputs": [
        {
          "output_type": "execute_result",
          "data": {
            "text/plain": [
              "'2.17.0'"
            ],
            "application/vnd.google.colaboratory.intrinsic+json": {
              "type": "string"
            }
          },
          "metadata": {},
          "execution_count": 1
        }
      ],
      "source": [
        "import tensorflow as tf\n",
        "tf.__version__"
      ]
    },
    {
      "cell_type": "code",
      "execution_count": 2,
      "metadata": {
        "colab": {
          "base_uri": "https://localhost:8080/"
        },
        "id": "Giuo_Las2cYJ",
        "outputId": "c8ae1f28-d6b1-4bb3-9017-1ed4e0c1e84c"
      },
      "outputs": [
        {
          "output_type": "stream",
          "name": "stdout",
          "text": [
            "Mounted at /content/drive\n"
          ]
        }
      ],
      "source": [
        "from google.colab import drive\n",
        "drive.mount('/content/drive')"
      ]
    },
    {
      "cell_type": "code",
      "execution_count": 3,
      "metadata": {
        "id": "vW-8fvSwvMLM"
      },
      "outputs": [],
      "source": [
        "from PIL import ImageFile\n",
        "ImageFile.LOAD_TRUNCATED_IMAGES = True"
      ]
    },
    {
      "cell_type": "code",
      "execution_count": 4,
      "metadata": {
        "colab": {
          "base_uri": "https://localhost:8080/",
          "height": 35
        },
        "id": "78yvXvLN2i9U",
        "outputId": "09c9d536-e180-451a-f677-577c41d2efb1"
      },
      "outputs": [
        {
          "output_type": "execute_result",
          "data": {
            "text/plain": [
              "'/content'"
            ],
            "application/vnd.google.colaboratory.intrinsic+json": {
              "type": "string"
            }
          },
          "metadata": {},
          "execution_count": 4
        }
      ],
      "source": [
        "import os\n",
        "os.getcwd()"
      ]
    },
    {
      "cell_type": "code",
      "execution_count": 5,
      "metadata": {
        "id": "0L5JUArzvGCo"
      },
      "outputs": [],
      "source": [
        "import tensorflow as tf\n",
        "from PIL import Image\n",
        "import numpy as np"
      ]
    },
    {
      "cell_type": "code",
      "execution_count": 6,
      "metadata": {
        "id": "KXBSrrdeDH9S"
      },
      "outputs": [],
      "source": [
        "target = ['Heart','Oblong','Oval','Round','Square']"
      ]
    },
    {
      "cell_type": "code",
      "execution_count": 8,
      "metadata": {
        "id": "vy5xazg180H5"
      },
      "outputs": [],
      "source": [
        "import random\n",
        "import cv2\n",
        "train_images = '../content/drive/MyDrive/FaceShape Dataset/training_set'\n",
        "x_training = []\n",
        "y_training = []\n",
        "for (_,directories,_) in os.walk(train_images):\n",
        "  for directory in directories:\n",
        "    for(_,_,files) in os.walk(os.path.join(train_images,directory)):\n",
        "      for filename in files:\n",
        "        with open(os.path.join(train_images,directory,filename),'rb') as f:\n",
        "\n",
        "          faceimage = cv2.imread(os.path.join(train_images,directory,filename))\n",
        "          face_cascade = cv2.CascadeClassifier('haarcascade_frontalface_default.xml')\n",
        "          try:\n",
        "            gray = cv2.cvtColor(faceimage,cv2.COLOR_BGR2GRAY)\n",
        "          except:\n",
        "            continue\n",
        "          faces = face_cascade.detectMultiScale(gray)\n",
        "          if len(faces)>0:\n",
        "            x,y,w,h = faces[0]\n",
        "          else:\n",
        "            continue\n",
        "\n",
        "          img = Image.open(f).convert('RGB').crop((x,y,x+w,y+h)).resize((380,380))\n",
        "          arr = np.array(img)\n",
        "          x_training.append(arr)\n",
        "          y_training.append(directory)\n",
        "\n",
        "          img_flip = img.transpose(method=Image.FLIP_LEFT_RIGHT)\n",
        "          img_rotate = img.rotate(random.randint(-20,20))\n",
        "\n",
        "          img_flip = np.array(img_flip)\n",
        "          img_rotate = np.array(img_rotate)\n",
        "\n",
        "          x_training.append(img_flip)\n",
        "          x_training.append(img_rotate)\n",
        "\n",
        "          y_training.append(directory)\n",
        "          y_training.append(directory)\n",
        "\n"
      ]
    },
    {
      "cell_type": "code",
      "execution_count": 9,
      "metadata": {
        "id": "Ha5tgvLDCI87"
      },
      "outputs": [],
      "source": [
        "test_images = '../content/drive/MyDrive/FaceShape Dataset/testing_set'\n",
        "x_test = []\n",
        "y_test = []\n",
        "for (_,directories,_) in os.walk(test_images):\n",
        "  for directory in directories:\n",
        "    for(_,_,files) in os.walk(os.path.join(test_images,directory)):\n",
        "      for filename in files:\n",
        "        with open(os.path.join(test_images,directory,filename),'rb') as f:\n",
        "          faceimage = cv2.imread(os.path.join(test_images,directory,filename))\n",
        "          face_cascade = cv2.CascadeClassifier('haarcascade_frontalface_default.xml')\n",
        "          try:\n",
        "            gray = cv2.cvtColor(faceimage,cv2.COLOR_BGR2GRAY)\n",
        "          except:\n",
        "            continue\n",
        "          faces = face_cascade.detectMultiScale(gray)\n",
        "          if len(faces)>0:\n",
        "            x,y,w,h = faces[0]\n",
        "          else:\n",
        "            continue\n",
        "\n",
        "          img = Image.open(f).convert('RGB').crop((x,y,x+w,y+h)).resize((380,380))\n",
        "          arr = np.array(img)\n",
        "          x_test.append(arr)\n",
        "          y_test.append(directory)"
      ]
    },
    {
      "cell_type": "code",
      "execution_count": 10,
      "metadata": {
        "id": "Fq5z_tbVrnn0"
      },
      "outputs": [],
      "source": [
        "x_training = np.array(x_training)\n",
        "y_training = np.array(y_training)\n"
      ]
    },
    {
      "cell_type": "code",
      "execution_count": 11,
      "metadata": {
        "id": "iPIWiYFXWkO9"
      },
      "outputs": [],
      "source": [
        "x_test = np.array(x_test)\n",
        "y_test = np.array(y_test)"
      ]
    },
    {
      "cell_type": "code",
      "execution_count": 12,
      "metadata": {
        "colab": {
          "base_uri": "https://localhost:8080/"
        },
        "id": "b8sQI8EILyh8",
        "outputId": "a6d0a3fd-dd46-4ded-85f1-645a77a48bf8"
      },
      "outputs": [
        {
          "output_type": "stream",
          "name": "stdout",
          "text": [
            "(11994, 380, 380, 3)\n",
            "(11994,)\n"
          ]
        }
      ],
      "source": [
        "print(x_training.shape)\n",
        "print(y_training.shape)"
      ]
    },
    {
      "cell_type": "code",
      "execution_count": 13,
      "metadata": {
        "colab": {
          "base_uri": "https://localhost:8080/"
        },
        "id": "D5vIRDR7L1tA",
        "outputId": "28119f9f-999d-4bf3-f3aa-46914761ca76"
      },
      "outputs": [
        {
          "output_type": "stream",
          "name": "stdout",
          "text": [
            "(997, 380, 380, 3)\n",
            "(997,)\n"
          ]
        }
      ],
      "source": [
        "print(x_test.shape)\n",
        "print(y_test.shape)"
      ]
    },
    {
      "cell_type": "code",
      "execution_count": 14,
      "metadata": {
        "id": "3mH6MNnLEA61"
      },
      "outputs": [],
      "source": [
        "mean_r = np.mean(x_training[:, :, :, 0])  # Red 채널의 전체 mean 계산\n",
        "mean_g = np.mean(x_training[:, :, :, 1])  # Green 채널의 전체 mean 계산\n",
        "mean_b = np.mean(x_training[:, :, :, 2])  # Blue 채널의 전체 mean 계산\n",
        "\n",
        "std_r = np.std(x_training[:, :, :, 0])  # Red 채널의 전체 std 계산\n",
        "std_g = np.std(x_training[:, :, :, 1])  # Green 채널의 전체 std 계산\n",
        "std_b = np.std(x_training[:, :, :, 2])  # Blue 채널의 전체 std 계산"
      ]
    },
    {
      "cell_type": "code",
      "execution_count": 15,
      "metadata": {
        "colab": {
          "base_uri": "https://localhost:8080/"
        },
        "id": "E19QZ7IeG3-a",
        "outputId": "0b49d057-9ac2-4f84-f3eb-4bbfda0bbabd"
      },
      "outputs": [
        {
          "output_type": "stream",
          "name": "stdout",
          "text": [
            "mean: 159.80679614507162,122.67351405273274,104.61857584263046\n",
            "std: 72.58244780862275,62.41943811258287,59.047168710327774\n"
          ]
        }
      ],
      "source": [
        "print(f'mean: {mean_r},{mean_g},{mean_b}')\n",
        "print(f'std: {std_r},{std_g},{std_b}')"
      ]
    },
    {
      "cell_type": "code",
      "execution_count": 16,
      "metadata": {
        "id": "kNbv8FXyHDUY"
      },
      "outputs": [],
      "source": [
        "x_training[:,:,:,0] = (x_training[:,:,:,0] - mean_r)/float(std_r)\n",
        "x_training[:,:,:,1] = (x_training[:,:,:,1] - mean_g)/float(std_g)\n",
        "x_training[:,:,:,2] = (x_training[:,:,:,2] - mean_b)/float(std_b)"
      ]
    },
    {
      "cell_type": "code",
      "execution_count": 17,
      "metadata": {
        "id": "t7y-fyXWH7q-"
      },
      "outputs": [],
      "source": [
        "x_test[:,:,:,0] = (x_test[:,:,:,0] - mean_r)/float(std_r)\n",
        "x_test[:,:,:,1] = (x_test[:,:,:,1] - mean_g)/float(std_g)\n",
        "x_test[:,:,:,2] = (x_test[:,:,:,2] - mean_b)/float(std_b)"
      ]
    },
    {
      "cell_type": "code",
      "execution_count": 18,
      "metadata": {
        "id": "YpvX-ysY1YW2"
      },
      "outputs": [],
      "source": [
        "from keras import layers"
      ]
    },
    {
      "cell_type": "code",
      "execution_count": 19,
      "metadata": {
        "id": "9xU45BRduiUa"
      },
      "outputs": [],
      "source": [
        "#target = ['Heart','Oblong','Oval','Round','Square']\n",
        "# 값 변환을 위한 dictionary\n",
        "mapping_dict = {'Heart': 0, 'Oblong': 1, 'Oval': 2, 'Round': 3,'Square':4}\n",
        "\n",
        "# 벡터화된 함수를 사용하여 배열의 값을 변경\n",
        "vectorized_map = np.vectorize(mapping_dict.get)\n",
        "y_training = vectorized_map(y_training)\n",
        "y_test = vectorized_map(y_test)\n"
      ]
    },
    {
      "cell_type": "code",
      "execution_count": 20,
      "metadata": {
        "id": "Iu08LkbtK6l_"
      },
      "outputs": [],
      "source": [
        "from sklearn.utils import shuffle\n",
        "x_training,y_training = shuffle(x_training,y_training)"
      ]
    },
    {
      "cell_type": "code",
      "execution_count": 21,
      "metadata": {
        "id": "iTurPm_hQrj_"
      },
      "outputs": [],
      "source": [
        "from tensorflow.keras.utils import to_categorical\n",
        "\n",
        "y_training = to_categorical(y_training)\n",
        "y_test = to_categorical(y_test)"
      ]
    },
    {
      "cell_type": "code",
      "execution_count": 22,
      "metadata": {
        "colab": {
          "base_uri": "https://localhost:8080/",
          "height": 271
        },
        "id": "SbEZcaQ41hAY",
        "outputId": "43cf14b3-a8c3-4053-85ba-f505e1a34be3"
      },
      "outputs": [
        {
          "output_type": "stream",
          "name": "stdout",
          "text": [
            "Downloading data from https://storage.googleapis.com/keras-applications/efficientnetb4_notop.h5\n",
            "\u001b[1m71686520/71686520\u001b[0m \u001b[32m━━━━━━━━━━━━━━━━━━━━\u001b[0m\u001b[37m\u001b[0m \u001b[1m0s\u001b[0m 0us/step\n"
          ]
        },
        {
          "output_type": "display_data",
          "data": {
            "text/plain": [
              "\u001b[1mModel: \"functional\"\u001b[0m\n"
            ],
            "text/html": [
              "<pre style=\"white-space:pre;overflow-x:auto;line-height:normal;font-family:Menlo,'DejaVu Sans Mono',consolas,'Courier New',monospace\"><span style=\"font-weight: bold\">Model: \"functional\"</span>\n",
              "</pre>\n"
            ]
          },
          "metadata": {}
        },
        {
          "output_type": "display_data",
          "data": {
            "text/plain": [
              "┏━━━━━━━━━━━━━━━━━━━━━━━━━━━━━━━━━━━━━━┳━━━━━━━━━━━━━━━━━━━━━━━━━━━━━┳━━━━━━━━━━━━━━━━━┓\n",
              "┃\u001b[1m \u001b[0m\u001b[1mLayer (type)                        \u001b[0m\u001b[1m \u001b[0m┃\u001b[1m \u001b[0m\u001b[1mOutput Shape               \u001b[0m\u001b[1m \u001b[0m┃\u001b[1m \u001b[0m\u001b[1m        Param #\u001b[0m\u001b[1m \u001b[0m┃\n",
              "┡━━━━━━━━━━━━━━━━━━━━━━━━━━━━━━━━━━━━━━╇━━━━━━━━━━━━━━━━━━━━━━━━━━━━━╇━━━━━━━━━━━━━━━━━┩\n",
              "│ input_layer (\u001b[38;5;33mInputLayer\u001b[0m)             │ (\u001b[38;5;45mNone\u001b[0m, \u001b[38;5;34m380\u001b[0m, \u001b[38;5;34m380\u001b[0m, \u001b[38;5;34m3\u001b[0m)         │               \u001b[38;5;34m0\u001b[0m │\n",
              "├──────────────────────────────────────┼─────────────────────────────┼─────────────────┤\n",
              "│ efficientnetb4 (\u001b[38;5;33mFunctional\u001b[0m)          │ (\u001b[38;5;45mNone\u001b[0m, \u001b[38;5;34m1792\u001b[0m)                │      \u001b[38;5;34m17,673,823\u001b[0m │\n",
              "├──────────────────────────────────────┼─────────────────────────────┼─────────────────┤\n",
              "│ dense (\u001b[38;5;33mDense\u001b[0m)                        │ (\u001b[38;5;45mNone\u001b[0m, \u001b[38;5;34m5\u001b[0m)                   │           \u001b[38;5;34m8,965\u001b[0m │\n",
              "└──────────────────────────────────────┴─────────────────────────────┴─────────────────┘\n"
            ],
            "text/html": [
              "<pre style=\"white-space:pre;overflow-x:auto;line-height:normal;font-family:Menlo,'DejaVu Sans Mono',consolas,'Courier New',monospace\">┏━━━━━━━━━━━━━━━━━━━━━━━━━━━━━━━━━━━━━━┳━━━━━━━━━━━━━━━━━━━━━━━━━━━━━┳━━━━━━━━━━━━━━━━━┓\n",
              "┃<span style=\"font-weight: bold\"> Layer (type)                         </span>┃<span style=\"font-weight: bold\"> Output Shape                </span>┃<span style=\"font-weight: bold\">         Param # </span>┃\n",
              "┡━━━━━━━━━━━━━━━━━━━━━━━━━━━━━━━━━━━━━━╇━━━━━━━━━━━━━━━━━━━━━━━━━━━━━╇━━━━━━━━━━━━━━━━━┩\n",
              "│ input_layer (<span style=\"color: #0087ff; text-decoration-color: #0087ff\">InputLayer</span>)             │ (<span style=\"color: #00d7ff; text-decoration-color: #00d7ff\">None</span>, <span style=\"color: #00af00; text-decoration-color: #00af00\">380</span>, <span style=\"color: #00af00; text-decoration-color: #00af00\">380</span>, <span style=\"color: #00af00; text-decoration-color: #00af00\">3</span>)         │               <span style=\"color: #00af00; text-decoration-color: #00af00\">0</span> │\n",
              "├──────────────────────────────────────┼─────────────────────────────┼─────────────────┤\n",
              "│ efficientnetb4 (<span style=\"color: #0087ff; text-decoration-color: #0087ff\">Functional</span>)          │ (<span style=\"color: #00d7ff; text-decoration-color: #00d7ff\">None</span>, <span style=\"color: #00af00; text-decoration-color: #00af00\">1792</span>)                │      <span style=\"color: #00af00; text-decoration-color: #00af00\">17,673,823</span> │\n",
              "├──────────────────────────────────────┼─────────────────────────────┼─────────────────┤\n",
              "│ dense (<span style=\"color: #0087ff; text-decoration-color: #0087ff\">Dense</span>)                        │ (<span style=\"color: #00d7ff; text-decoration-color: #00d7ff\">None</span>, <span style=\"color: #00af00; text-decoration-color: #00af00\">5</span>)                   │           <span style=\"color: #00af00; text-decoration-color: #00af00\">8,965</span> │\n",
              "└──────────────────────────────────────┴─────────────────────────────┴─────────────────┘\n",
              "</pre>\n"
            ]
          },
          "metadata": {}
        },
        {
          "output_type": "display_data",
          "data": {
            "text/plain": [
              "\u001b[1m Total params: \u001b[0m\u001b[38;5;34m17,682,788\u001b[0m (67.45 MB)\n"
            ],
            "text/html": [
              "<pre style=\"white-space:pre;overflow-x:auto;line-height:normal;font-family:Menlo,'DejaVu Sans Mono',consolas,'Courier New',monospace\"><span style=\"font-weight: bold\"> Total params: </span><span style=\"color: #00af00; text-decoration-color: #00af00\">17,682,788</span> (67.45 MB)\n",
              "</pre>\n"
            ]
          },
          "metadata": {}
        },
        {
          "output_type": "display_data",
          "data": {
            "text/plain": [
              "\u001b[1m Trainable params: \u001b[0m\u001b[38;5;34m17,557,581\u001b[0m (66.98 MB)\n"
            ],
            "text/html": [
              "<pre style=\"white-space:pre;overflow-x:auto;line-height:normal;font-family:Menlo,'DejaVu Sans Mono',consolas,'Courier New',monospace\"><span style=\"font-weight: bold\"> Trainable params: </span><span style=\"color: #00af00; text-decoration-color: #00af00\">17,557,581</span> (66.98 MB)\n",
              "</pre>\n"
            ]
          },
          "metadata": {}
        },
        {
          "output_type": "display_data",
          "data": {
            "text/plain": [
              "\u001b[1m Non-trainable params: \u001b[0m\u001b[38;5;34m125,207\u001b[0m (489.09 KB)\n"
            ],
            "text/html": [
              "<pre style=\"white-space:pre;overflow-x:auto;line-height:normal;font-family:Menlo,'DejaVu Sans Mono',consolas,'Courier New',monospace\"><span style=\"font-weight: bold\"> Non-trainable params: </span><span style=\"color: #00af00; text-decoration-color: #00af00\">125,207</span> (489.09 KB)\n",
              "</pre>\n"
            ]
          },
          "metadata": {}
        }
      ],
      "source": [
        "from keras.layers import Flatten\n",
        "from keras.layers import Input\n",
        "from tensorflow.keras.applications import EfficientNetB4\n",
        "from keras.layers import Dense, Dropout, GlobalAveragePooling2D, Conv2D\n",
        "from keras.layers import BatchNormalization\n",
        "from tensorflow.keras.optimizers import Adam\n",
        "from tensorflow.keras.regularizers import l2\n",
        "IMG_SIZE = 380\n",
        "NUM_CLASSES = 5\n",
        "inputs = Input(shape=(IMG_SIZE, IMG_SIZE, 3))\n",
        "base_model = EfficientNetB4(include_top=False, weights='imagenet',pooling='avg')(inputs)\n",
        "base_model.trainable=False\n",
        "\n",
        "x=base_model\n",
        "outputs=Dense(NUM_CLASSES,activation='softmax',kernel_regularizer=l2(0.001))(x)\n",
        "\n",
        "model = tf.keras.Model(inputs, outputs)\n",
        "base_model.trainable=False\n",
        "model.compile(\n",
        "    optimizer=Adam(learning_rate=0.001), loss=\"categorical_crossentropy\", metrics=[\"accuracy\"]\n",
        ")\n",
        "\n",
        "model.summary()"
      ]
    },
    {
      "cell_type": "code",
      "execution_count": 23,
      "metadata": {
        "id": "JdG6oYuL1y8V"
      },
      "outputs": [],
      "source": [
        "earlystopping=tf.keras.callbacks.EarlyStopping(\n",
        "    monitor='val_accuracy', patience=10,restore_best_weights=True\n",
        ")"
      ]
    },
    {
      "cell_type": "code",
      "execution_count": 24,
      "metadata": {
        "colab": {
          "base_uri": "https://localhost:8080/"
        },
        "id": "6KUErNns1kzx",
        "outputId": "267358d1-501d-4b9f-c965-25476e757ebd"
      },
      "outputs": [
        {
          "output_type": "stream",
          "name": "stdout",
          "text": [
            "Epoch 1/25\n",
            "\u001b[1m375/375\u001b[0m \u001b[32m━━━━━━━━━━━━━━━━━━━━\u001b[0m\u001b[37m\u001b[0m \u001b[1m512s\u001b[0m 917ms/step - accuracy: 0.4546 - loss: 1.3112 - val_accuracy: 0.4915 - val_loss: 1.6590\n",
            "Epoch 2/25\n",
            "\u001b[1m375/375\u001b[0m \u001b[32m━━━━━━━━━━━━━━━━━━━━\u001b[0m\u001b[37m\u001b[0m \u001b[1m202s\u001b[0m 539ms/step - accuracy: 0.7447 - loss: 0.6745 - val_accuracy: 0.6239 - val_loss: 1.1811\n",
            "Epoch 3/25\n",
            "\u001b[1m375/375\u001b[0m \u001b[32m━━━━━━━━━━━━━━━━━━━━\u001b[0m\u001b[37m\u001b[0m \u001b[1m201s\u001b[0m 535ms/step - accuracy: 0.8482 - loss: 0.4136 - val_accuracy: 0.6349 - val_loss: 1.1751\n",
            "Epoch 4/25\n",
            "\u001b[1m375/375\u001b[0m \u001b[32m━━━━━━━━━━━━━━━━━━━━\u001b[0m\u001b[37m\u001b[0m \u001b[1m200s\u001b[0m 534ms/step - accuracy: 0.9042 - loss: 0.2755 - val_accuracy: 0.6078 - val_loss: 1.5116\n",
            "Epoch 5/25\n",
            "\u001b[1m375/375\u001b[0m \u001b[32m━━━━━━━━━━━━━━━━━━━━\u001b[0m\u001b[37m\u001b[0m \u001b[1m201s\u001b[0m 537ms/step - accuracy: 0.9306 - loss: 0.2115 - val_accuracy: 0.6309 - val_loss: 1.5014\n",
            "Epoch 6/25\n",
            "\u001b[1m375/375\u001b[0m \u001b[32m━━━━━━━━━━━━━━━━━━━━\u001b[0m\u001b[37m\u001b[0m \u001b[1m202s\u001b[0m 538ms/step - accuracy: 0.9395 - loss: 0.1812 - val_accuracy: 0.6499 - val_loss: 1.5766\n",
            "Epoch 7/25\n",
            "\u001b[1m375/375\u001b[0m \u001b[32m━━━━━━━━━━━━━━━━━━━━\u001b[0m\u001b[37m\u001b[0m \u001b[1m200s\u001b[0m 534ms/step - accuracy: 0.9535 - loss: 0.1392 - val_accuracy: 0.6720 - val_loss: 1.3090\n",
            "Epoch 8/25\n",
            "\u001b[1m375/375\u001b[0m \u001b[32m━━━━━━━━━━━━━━━━━━━━\u001b[0m\u001b[37m\u001b[0m \u001b[1m200s\u001b[0m 532ms/step - accuracy: 0.9665 - loss: 0.1106 - val_accuracy: 0.6530 - val_loss: 1.4230\n",
            "Epoch 9/25\n",
            "\u001b[1m375/375\u001b[0m \u001b[32m━━━━━━━━━━━━━━━━━━━━\u001b[0m\u001b[37m\u001b[0m \u001b[1m200s\u001b[0m 534ms/step - accuracy: 0.9673 - loss: 0.1032 - val_accuracy: 0.6449 - val_loss: 1.3029\n",
            "Epoch 10/25\n",
            "\u001b[1m375/375\u001b[0m \u001b[32m━━━━━━━━━━━━━━━━━━━━\u001b[0m\u001b[37m\u001b[0m \u001b[1m201s\u001b[0m 536ms/step - accuracy: 0.9639 - loss: 0.1068 - val_accuracy: 0.6810 - val_loss: 1.4663\n",
            "Epoch 11/25\n",
            "\u001b[1m375/375\u001b[0m \u001b[32m━━━━━━━━━━━━━━━━━━━━\u001b[0m\u001b[37m\u001b[0m \u001b[1m202s\u001b[0m 538ms/step - accuracy: 0.9686 - loss: 0.0997 - val_accuracy: 0.6479 - val_loss: 1.5034\n",
            "Epoch 12/25\n",
            "\u001b[1m375/375\u001b[0m \u001b[32m━━━━━━━━━━━━━━━━━━━━\u001b[0m\u001b[37m\u001b[0m \u001b[1m201s\u001b[0m 536ms/step - accuracy: 0.9727 - loss: 0.0839 - val_accuracy: 0.6329 - val_loss: 1.5891\n",
            "Epoch 13/25\n",
            "\u001b[1m375/375\u001b[0m \u001b[32m━━━━━━━━━━━━━━━━━━━━\u001b[0m\u001b[37m\u001b[0m \u001b[1m201s\u001b[0m 535ms/step - accuracy: 0.9766 - loss: 0.0779 - val_accuracy: 0.6429 - val_loss: 1.7192\n",
            "Epoch 14/25\n",
            "\u001b[1m375/375\u001b[0m \u001b[32m━━━━━━━━━━━━━━━━━━━━\u001b[0m\u001b[37m\u001b[0m \u001b[1m202s\u001b[0m 538ms/step - accuracy: 0.9726 - loss: 0.0913 - val_accuracy: 0.6820 - val_loss: 1.7141\n",
            "Epoch 15/25\n",
            "\u001b[1m375/375\u001b[0m \u001b[32m━━━━━━━━━━━━━━━━━━━━\u001b[0m\u001b[37m\u001b[0m \u001b[1m201s\u001b[0m 537ms/step - accuracy: 0.9782 - loss: 0.0732 - val_accuracy: 0.6830 - val_loss: 1.5759\n",
            "Epoch 16/25\n",
            "\u001b[1m375/375\u001b[0m \u001b[32m━━━━━━━━━━━━━━━━━━━━\u001b[0m\u001b[37m\u001b[0m \u001b[1m200s\u001b[0m 535ms/step - accuracy: 0.9732 - loss: 0.0850 - val_accuracy: 0.6800 - val_loss: 1.5823\n",
            "Epoch 17/25\n",
            "\u001b[1m375/375\u001b[0m \u001b[32m━━━━━━━━━━━━━━━━━━━━\u001b[0m\u001b[37m\u001b[0m \u001b[1m201s\u001b[0m 537ms/step - accuracy: 0.9829 - loss: 0.0601 - val_accuracy: 0.6239 - val_loss: 1.7407\n",
            "Epoch 18/25\n",
            "\u001b[1m375/375\u001b[0m \u001b[32m━━━━━━━━━━━━━━━━━━━━\u001b[0m\u001b[37m\u001b[0m \u001b[1m202s\u001b[0m 537ms/step - accuracy: 0.9827 - loss: 0.0569 - val_accuracy: 0.6459 - val_loss: 1.6563\n",
            "Epoch 19/25\n",
            "\u001b[1m375/375\u001b[0m \u001b[32m━━━━━━━━━━━━━━━━━━━━\u001b[0m\u001b[37m\u001b[0m \u001b[1m201s\u001b[0m 535ms/step - accuracy: 0.9776 - loss: 0.0777 - val_accuracy: 0.7031 - val_loss: 1.4664\n",
            "Epoch 20/25\n",
            "\u001b[1m375/375\u001b[0m \u001b[32m━━━━━━━━━━━━━━━━━━━━\u001b[0m\u001b[37m\u001b[0m \u001b[1m200s\u001b[0m 533ms/step - accuracy: 0.9868 - loss: 0.0451 - val_accuracy: 0.5928 - val_loss: 2.2998\n",
            "Epoch 21/25\n",
            "\u001b[1m375/375\u001b[0m \u001b[32m━━━━━━━━━━━━━━━━━━━━\u001b[0m\u001b[37m\u001b[0m \u001b[1m201s\u001b[0m 535ms/step - accuracy: 0.9786 - loss: 0.0765 - val_accuracy: 0.6339 - val_loss: 2.1022\n",
            "Epoch 22/25\n",
            "\u001b[1m375/375\u001b[0m \u001b[32m━━━━━━━━━━━━━━━━━━━━\u001b[0m\u001b[37m\u001b[0m \u001b[1m201s\u001b[0m 536ms/step - accuracy: 0.9829 - loss: 0.0604 - val_accuracy: 0.6911 - val_loss: 1.5592\n",
            "Epoch 23/25\n",
            "\u001b[1m375/375\u001b[0m \u001b[32m━━━━━━━━━━━━━━━━━━━━\u001b[0m\u001b[37m\u001b[0m \u001b[1m201s\u001b[0m 537ms/step - accuracy: 0.9819 - loss: 0.0636 - val_accuracy: 0.7242 - val_loss: 1.4356\n",
            "Epoch 24/25\n",
            "\u001b[1m375/375\u001b[0m \u001b[32m━━━━━━━━━━━━━━━━━━━━\u001b[0m\u001b[37m\u001b[0m \u001b[1m201s\u001b[0m 536ms/step - accuracy: 0.9862 - loss: 0.0511 - val_accuracy: 0.6931 - val_loss: 1.4204\n",
            "Epoch 25/25\n",
            "\u001b[1m375/375\u001b[0m \u001b[32m━━━━━━━━━━━━━━━━━━━━\u001b[0m\u001b[37m\u001b[0m \u001b[1m200s\u001b[0m 533ms/step - accuracy: 0.9852 - loss: 0.0522 - val_accuracy: 0.6961 - val_loss: 1.4261\n"
          ]
        }
      ],
      "source": [
        "epochs = 25\n",
        "hist = model.fit(x=x_training,y=y_training, epochs=epochs, validation_data=(x_test,y_test), callbacks=[earlystopping])"
      ]
    },
    {
      "cell_type": "code",
      "execution_count": 25,
      "metadata": {
        "colab": {
          "base_uri": "https://localhost:8080/",
          "height": 307
        },
        "id": "Cg01-bir0cVE",
        "outputId": "17969fc8-936a-4f05-f1ea-0eb50c681ff9"
      },
      "outputs": [
        {
          "output_type": "display_data",
          "data": {
            "text/plain": [
              "<Figure size 800x300 with 2 Axes>"
            ],
            "image/png": "[encoded data removed]"
          },
          "metadata": {}
        }
      ],
      "source": [
        "import matplotlib.pyplot as plt\n",
        "plt.figure(figsize=(8,3))\n",
        "\n",
        "# 훈련 손실 그래프\n",
        "plt.subplot(121)\n",
        "plt.plot(hist.history['loss'])\n",
        "plt.plot(hist.history['val_loss'])\n",
        "plt.title('Model Loss')\n",
        "plt.xlabel('Epoch')\n",
        "plt.ylabel('Loss')\n",
        "plt.legend(['train', 'val'], loc='upper right')\n",
        "\n",
        "# 훈련 정확도 그래프\n",
        "plt.subplot(122)\n",
        "plt.plot(hist.history['accuracy'])\n",
        "plt.plot(hist.history['val_accuracy'])\n",
        "plt.title('Model Accuracy')\n",
        "plt.xlabel('Epoch')\n",
        "plt.ylabel('Accuracy')\n",
        "plt.legend(['train', 'val'], loc='lower right')\n",
        "plt.tight_layout()\n",
        "plt.show()"
      ]
    },
    {
      "cell_type": "code",
      "execution_count": 26,
      "metadata": {
        "id": "QCvlz0TKNJqd"
      },
      "outputs": [],
      "source": [
        "base_model.trainable = True"
      ]
    },
    {
      "cell_type": "code",
      "execution_count": 27,
      "metadata": {
        "id": "VGEiesy556FW"
      },
      "outputs": [],
      "source": [
        "model.compile(optimizer=Adam(learning_rate=0.0001),\n",
        "              loss='categorical_crossentropy',\n",
        "              metrics=['accuracy'])"
      ]
    },
    {
      "cell_type": "code",
      "execution_count": 28,
      "metadata": {
        "colab": {
          "base_uri": "https://localhost:8080/"
        },
        "id": "JO98D3VW57N9",
        "outputId": "9349c25a-ab2c-4bcf-a557-c6766157693f"
      },
      "outputs": [
        {
          "output_type": "stream",
          "name": "stdout",
          "text": [
            "Epoch 1/20\n",
            "\u001b[1m375/375\u001b[0m \u001b[32m━━━━━━━━━━━━━━━━━━━━\u001b[0m\u001b[37m\u001b[0m \u001b[1m428s\u001b[0m 802ms/step - accuracy: 0.9925 - loss: 0.0282 - val_accuracy: 0.7462 - val_loss: 1.2883\n",
            "Epoch 2/20\n",
            "\u001b[1m375/375\u001b[0m \u001b[32m━━━━━━━━━━━━━━━━━━━━\u001b[0m\u001b[37m\u001b[0m \u001b[1m200s\u001b[0m 532ms/step - accuracy: 0.9979 - loss: 0.0169 - val_accuracy: 0.7543 - val_loss: 1.2770\n",
            "Epoch 3/20\n",
            "\u001b[1m375/375\u001b[0m \u001b[32m━━━━━━━━━━━━━━━━━━━━\u001b[0m\u001b[37m\u001b[0m \u001b[1m200s\u001b[0m 535ms/step - accuracy: 0.9983 - loss: 0.0138 - val_accuracy: 0.7563 - val_loss: 1.2662\n",
            "Epoch 4/20\n",
            "\u001b[1m375/375\u001b[0m \u001b[32m━━━━━━━━━━━━━━━━━━━━\u001b[0m\u001b[37m\u001b[0m \u001b[1m201s\u001b[0m 536ms/step - accuracy: 0.9983 - loss: 0.0122 - val_accuracy: 0.7472 - val_loss: 1.2124\n",
            "Epoch 5/20\n",
            "\u001b[1m375/375\u001b[0m \u001b[32m━━━━━━━━━━━━━━━━━━━━\u001b[0m\u001b[37m\u001b[0m \u001b[1m201s\u001b[0m 535ms/step - accuracy: 0.9992 - loss: 0.0097 - val_accuracy: 0.7503 - val_loss: 1.1888\n",
            "Epoch 6/20\n",
            "\u001b[1m375/375\u001b[0m \u001b[32m━━━━━━━━━━━━━━━━━━━━\u001b[0m\u001b[37m\u001b[0m \u001b[1m202s\u001b[0m 537ms/step - accuracy: 0.9994 - loss: 0.0091 - val_accuracy: 0.7523 - val_loss: 1.2031\n",
            "Epoch 7/20\n",
            "\u001b[1m375/375\u001b[0m \u001b[32m━━━━━━━━━━━━━━━━━━━━\u001b[0m\u001b[37m\u001b[0m \u001b[1m202s\u001b[0m 538ms/step - accuracy: 0.9994 - loss: 0.0083 - val_accuracy: 0.7472 - val_loss: 1.1715\n",
            "Epoch 8/20\n",
            "\u001b[1m375/375\u001b[0m \u001b[32m━━━━━━━━━━━━━━━━━━━━\u001b[0m\u001b[37m\u001b[0m \u001b[1m201s\u001b[0m 537ms/step - accuracy: 0.9997 - loss: 0.0072 - val_accuracy: 0.7503 - val_loss: 1.1480\n",
            "Epoch 9/20\n",
            "\u001b[1m375/375\u001b[0m \u001b[32m━━━━━━━━━━━━━━━━━━━━\u001b[0m\u001b[37m\u001b[0m \u001b[1m202s\u001b[0m 538ms/step - accuracy: 0.9993 - loss: 0.0082 - val_accuracy: 0.7533 - val_loss: 1.1580\n",
            "Epoch 10/20\n",
            "\u001b[1m375/375\u001b[0m \u001b[32m━━━━━━━━━━━━━━━━━━━━\u001b[0m\u001b[37m\u001b[0m \u001b[1m202s\u001b[0m 538ms/step - accuracy: 0.9995 - loss: 0.0070 - val_accuracy: 0.7533 - val_loss: 1.1538\n",
            "Epoch 11/20\n",
            "\u001b[1m375/375\u001b[0m \u001b[32m━━━━━━━━━━━━━━━━━━━━\u001b[0m\u001b[37m\u001b[0m \u001b[1m202s\u001b[0m 538ms/step - accuracy: 0.9998 - loss: 0.0061 - val_accuracy: 0.7573 - val_loss: 1.1675\n",
            "Epoch 12/20\n",
            "\u001b[1m375/375\u001b[0m \u001b[32m━━━━━━━━━━━━━━━━━━━━\u001b[0m\u001b[37m\u001b[0m \u001b[1m201s\u001b[0m 536ms/step - accuracy: 0.9994 - loss: 0.0062 - val_accuracy: 0.7513 - val_loss: 1.1410\n",
            "Epoch 13/20\n",
            "\u001b[1m375/375\u001b[0m \u001b[32m━━━━━━━━━━━━━━━━━━━━\u001b[0m\u001b[37m\u001b[0m \u001b[1m202s\u001b[0m 537ms/step - accuracy: 0.9995 - loss: 0.0055 - val_accuracy: 0.7513 - val_loss: 1.1346\n",
            "Epoch 14/20\n",
            "\u001b[1m375/375\u001b[0m \u001b[32m━━━━━━━━━━━━━━━━━━━━\u001b[0m\u001b[37m\u001b[0m \u001b[1m202s\u001b[0m 537ms/step - accuracy: 0.9995 - loss: 0.0053 - val_accuracy: 0.7412 - val_loss: 1.2165\n",
            "Epoch 15/20\n",
            "\u001b[1m375/375\u001b[0m \u001b[32m━━━━━━━━━━━━━━━━━━━━\u001b[0m\u001b[37m\u001b[0m \u001b[1m202s\u001b[0m 538ms/step - accuracy: 0.9995 - loss: 0.0058 - val_accuracy: 0.7533 - val_loss: 1.1693\n",
            "Epoch 16/20\n",
            "\u001b[1m375/375\u001b[0m \u001b[32m━━━━━━━━━━━━━━━━━━━━\u001b[0m\u001b[37m\u001b[0m \u001b[1m201s\u001b[0m 536ms/step - accuracy: 0.9997 - loss: 0.0049 - val_accuracy: 0.7543 - val_loss: 1.1781\n",
            "Epoch 17/20\n",
            "\u001b[1m375/375\u001b[0m \u001b[32m━━━━━━━━━━━━━━━━━━━━\u001b[0m\u001b[37m\u001b[0m \u001b[1m201s\u001b[0m 536ms/step - accuracy: 0.9996 - loss: 0.0049 - val_accuracy: 0.7503 - val_loss: 1.2229\n",
            "Epoch 18/20\n",
            "\u001b[1m375/375\u001b[0m \u001b[32m━━━━━━━━━━━━━━━━━━━━\u001b[0m\u001b[37m\u001b[0m \u001b[1m202s\u001b[0m 538ms/step - accuracy: 0.9994 - loss: 0.0049 - val_accuracy: 0.7583 - val_loss: 1.2050\n",
            "Epoch 19/20\n",
            "\u001b[1m375/375\u001b[0m \u001b[32m━━━━━━━━━━━━━━━━━━━━\u001b[0m\u001b[37m\u001b[0m \u001b[1m202s\u001b[0m 538ms/step - accuracy: 0.9994 - loss: 0.0049 - val_accuracy: 0.7513 - val_loss: 1.2219\n",
            "Epoch 20/20\n",
            "\u001b[1m375/375\u001b[0m \u001b[32m━━━━━━━━━━━━━━━━━━━━\u001b[0m\u001b[37m\u001b[0m \u001b[1m202s\u001b[0m 538ms/step - accuracy: 0.9993 - loss: 0.0063 - val_accuracy: 0.7513 - val_loss: 1.2169\n"
          ]
        }
      ],
      "source": [
        "hist=model.fit(x=x_training,y=y_training, epochs=20, validation_data=(x_test,y_test), callbacks=[earlystopping])"
      ]
    },
    {
      "cell_type": "code",
      "execution_count": 29,
      "metadata": {
        "colab": {
          "base_uri": "https://localhost:8080/",
          "height": 307
        },
        "id": "fnanHeKK-CHW",
        "outputId": "ad93dee0-5dfc-492f-cec4-dd9b283320bf"
      },
      "outputs": [
        {
          "output_type": "display_data",
          "data": {
            "text/plain": [
              "<Figure size 800x300 with 2 Axes>"
            ],
            "image/png": "[encoded data removed]"
          },
          "metadata": {}
        }
      ],
      "source": [
        "plt.figure(figsize=(8,3))\n",
        "\n",
        "# 훈련 손실 그래프\n",
        "plt.subplot(121)\n",
        "plt.plot(hist.history['loss'])\n",
        "plt.plot(hist.history['val_loss'])\n",
        "plt.title('Model Loss')\n",
        "plt.xlabel('Epoch')\n",
        "plt.ylabel('Loss')\n",
        "plt.legend(['train', 'val'], loc='upper right')\n",
        "\n",
        "# 훈련 정확도 그래프\n",
        "plt.subplot(122)\n",
        "plt.plot(hist.history['accuracy'])\n",
        "plt.plot(hist.history['val_accuracy'])\n",
        "plt.title('Model Accuracy')\n",
        "plt.xlabel('Epoch')\n",
        "plt.ylabel('Accuracy')\n",
        "plt.legend(['train', 'val'], loc='lower right')\n",
        "plt.tight_layout()\n",
        "plt.show()"
      ]
    },
    {
      "cell_type": "code",
      "execution_count": 30,
      "metadata": {
        "colab": {
          "base_uri": "https://localhost:8080/"
        },
        "id": "PtKWAE4fdMbr",
        "outputId": "dbbfc7a5-69f7-44f4-b3a9-969c08fcfbd3"
      },
      "outputs": [
        {
          "output_type": "stream",
          "name": "stderr",
          "text": [
            "WARNING:absl:You are saving your model as an HDF5 file via `model.save()` or `keras.saving.save_model(model)`. This file format is considered legacy. We recommend using instead the native Keras format, e.g. `model.save('my_model.keras')` or `keras.saving.save_model(model, 'my_model.keras')`. \n"
          ]
        }
      ],
      "source": [
        "model.save('model.h5')"
      ]
    },
    {
      "cell_type": "markdown",
      "metadata": {
        "id": "jCKb6UP145C4"
      },
      "source": [
        "# ref\n",
        "- https://velog.io/@kyyle/Model-Optimization-1-%ED%9B%88%EB%A0%A8-%ED%9B%84-%EC%96%91%EC%9E%90%ED%99%94\n",
        "- https://dacon.io/competitions/official/236082/codeshare/8441"
      ]
    }
  ],
  "metadata": {
    "accelerator": "GPU",
    "colab": {
      "gpuType": "L4",
      "provenance": []
    },
    "kernelspec": {
      "display_name": "Python 3",
      "name": "python3"
    },
    "language_info": {
      "name": "python"
    }
  },
  "nbformat": 4,
  "nbformat_minor": 0
}