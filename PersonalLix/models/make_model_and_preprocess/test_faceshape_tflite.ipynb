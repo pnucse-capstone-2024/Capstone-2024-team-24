{
  "nbformat": 4,
  "nbformat_minor": 0,
  "metadata": {
    "colab": {
      "provenance": []
    },
    "kernelspec": {
      "name": "python3",
      "display_name": "Python 3"
    },
    "language_info": {
      "name": "python"
    }
  },
  "cells": [
    {
      "cell_type": "code",
      "execution_count": 1,
      "metadata": {
        "colab": {
          "base_uri": "https://localhost:8080/",
          "height": 35
        },
        "id": "ALjVFORQBZq3",
        "outputId": "54c39ea9-5350-4fc0-f1d7-f93500166318"
      },
      "outputs": [
        {
          "output_type": "execute_result",
          "data": {
            "text/plain": [
              "'2.17.0'"
            ],
            "application/vnd.google.colaboratory.intrinsic+json": {
              "type": "string"
            }
          },
          "metadata": {},
          "execution_count": 1
        }
      ],
      "source": [
        "import tensorflow as tf\n",
        "tf.__version__"
      ]
    },
    {
      "cell_type": "code",
      "source": [
        "from google.colab import drive\n",
        "drive.mount('/content/drive')"
      ],
      "metadata": {
        "colab": {
          "base_uri": "https://localhost:8080/"
        },
        "id": "3s6a9fppBi27",
        "outputId": "0b074240-537d-4ed9-f295-bfbec5104bcb"
      },
      "execution_count": 2,
      "outputs": [
        {
          "output_type": "stream",
          "name": "stdout",
          "text": [
            "Mounted at /content/drive\n"
          ]
        }
      ]
    },
    {
      "cell_type": "code",
      "source": [
        "from PIL import ImageFile\n",
        "ImageFile.LOAD_TRUNCATED_IMAGES = True"
      ],
      "metadata": {
        "id": "zsyQbg-dBlCg"
      },
      "execution_count": 3,
      "outputs": []
    },
    {
      "cell_type": "code",
      "source": [
        "import os\n",
        "os.getcwd()"
      ],
      "metadata": {
        "colab": {
          "base_uri": "https://localhost:8080/",
          "height": 35
        },
        "id": "7UcI-P6qBmT8",
        "outputId": "ed29aa67-52a9-4865-8ecb-e2d64e170442"
      },
      "execution_count": 4,
      "outputs": [
        {
          "output_type": "execute_result",
          "data": {
            "text/plain": [
              "'/content'"
            ],
            "application/vnd.google.colaboratory.intrinsic+json": {
              "type": "string"
            }
          },
          "metadata": {},
          "execution_count": 4
        }
      ]
    },
    {
      "cell_type": "code",
      "source": [
        "import tensorflow as tf\n",
        "from PIL import Image\n",
        "import numpy as np\n",
        "import cv2"
      ],
      "metadata": {
        "id": "XMahCBd-Bnqk"
      },
      "execution_count": 8,
      "outputs": []
    },
    {
      "cell_type": "code",
      "source": [
        "target = ['Heart','Oblong','Oval','Round','Square']"
      ],
      "metadata": {
        "id": "NN5Db_fyBpBb"
      },
      "execution_count": 6,
      "outputs": []
    },
    {
      "cell_type": "code",
      "source": [
        "test_images = '../content/drive/MyDrive/FaceShape Dataset/testing_set'\n",
        "x_test = []\n",
        "y_test = []\n",
        "for (_,directories,_) in os.walk(test_images):\n",
        "  for directory in directories:\n",
        "    for(_,_,files) in os.walk(os.path.join(test_images,directory)):\n",
        "      for filename in files:\n",
        "        with open(os.path.join(test_images,directory,filename),'rb') as f:\n",
        "          faceimage = cv2.imread(os.path.join(test_images,directory,filename))\n",
        "          face_cascade = cv2.CascadeClassifier('haarcascade_frontalface_default.xml')\n",
        "          try:\n",
        "            gray = cv2.cvtColor(faceimage,cv2.COLOR_BGR2GRAY)\n",
        "          except:\n",
        "            continue\n",
        "          faces = face_cascade.detectMultiScale(gray)\n",
        "          if len(faces)>0:\n",
        "            x,y,w,h = faces[0]\n",
        "          else:\n",
        "            continue\n",
        "\n",
        "          img = Image.open(f).convert('RGB').crop((x,y,x+w,y+h)).resize((380,380))\n",
        "          arr = np.array(img)\n",
        "          x_test.append(arr)\n",
        "          y_test.append(directory)"
      ],
      "metadata": {
        "id": "08wVRcrgBs_F"
      },
      "execution_count": 9,
      "outputs": []
    },
    {
      "cell_type": "code",
      "source": [
        "x_test = np.array(x_test)\n",
        "y_test = np.array(y_test)"
      ],
      "metadata": {
        "id": "EHYKb469Bwxj"
      },
      "execution_count": 10,
      "outputs": []
    },
    {
      "cell_type": "code",
      "source": [
        "print(x_test.shape)\n",
        "print(y_test.shape)"
      ],
      "metadata": {
        "colab": {
          "base_uri": "https://localhost:8080/"
        },
        "id": "VuUeihy6ByCN",
        "outputId": "a1597db6-65a5-4ea2-90b0-01f516e300f2"
      },
      "execution_count": 11,
      "outputs": [
        {
          "output_type": "stream",
          "name": "stdout",
          "text": [
            "(997, 380, 380, 3)\n",
            "(997,)\n"
          ]
        }
      ]
    },
    {
      "cell_type": "code",
      "source": [
        "mean_r, mean_g, mean_b= [159.80679614507162,122.67351405273274,104.61857584263046]\n",
        "std_r, std_g, std_b= [72.58244780862275, 62.41943811258287, 59.047168710327774]"
      ],
      "metadata": {
        "id": "T3J0IYESB5vK"
      },
      "execution_count": 12,
      "outputs": []
    },
    {
      "cell_type": "code",
      "source": [
        "x_test[:,:,:,0] = (x_test[:,:,:,0] - mean_r)/float(std_r)\n",
        "x_test[:,:,:,1] = (x_test[:,:,:,1] - mean_g)/float(std_g)\n",
        "x_test[:,:,:,2] = (x_test[:,:,:,2] - mean_b)/float(std_b)"
      ],
      "metadata": {
        "id": "lnr9SLXnB31p"
      },
      "execution_count": 13,
      "outputs": []
    },
    {
      "cell_type": "code",
      "source": [
        "#target = ['Heart','Oblong','Oval','Round','Square']\n",
        "# 값 변환을 위한 dictionary\n",
        "mapping_dict = {'Heart': 0, 'Oblong': 1, 'Oval': 2, 'Round': 3,'Square':4}\n",
        "\n",
        "# 벡터화된 함수를 사용하여 배열의 값을 변경\n",
        "vectorized_map = np.vectorize(mapping_dict.get)\n",
        "y_test = vectorized_map(y_test)"
      ],
      "metadata": {
        "id": "Q6t-_uiqCB2-"
      },
      "execution_count": 14,
      "outputs": []
    },
    {
      "cell_type": "code",
      "source": [
        "y_test = np.array(y_test)"
      ],
      "metadata": {
        "id": "7fb5JPurES_t"
      },
      "execution_count": 15,
      "outputs": []
    },
    {
      "cell_type": "code",
      "source": [
        "interpreter = tf.lite.Interpreter(model_path='faceshape_efficientnetb4_crop.tflite')\n",
        "interpreter.allocate_tensors()\n",
        "\n",
        "input_details = interpreter.get_input_details()\n",
        "output_details = interpreter.get_output_details()"
      ],
      "metadata": {
        "id": "0fWPo00lEtmc"
      },
      "execution_count": 16,
      "outputs": []
    },
    {
      "cell_type": "code",
      "source": [
        "y_predict = []\n",
        "for x in x_test:\n",
        "    arr = np.expand_dims(x,axis=0)\n",
        "    interpreter.set_tensor(input_details[0]['index'], arr.astype(np.float32))\n",
        "\n",
        "    # 추론 실행\n",
        "    interpreter.invoke()\n",
        "\n",
        "    # 출력 텐서에서 결과 가져오기\n",
        "    result = interpreter.get_tensor(output_details[0]['index'])\n",
        "    #print(\"'Heart': 0, 'Oblong': 1, 'Oval': 2, 'Round': 3,'Square':4\")\n",
        "    #print(result[0])\n",
        "    y_predict.append(result[0].argmax())"
      ],
      "metadata": {
        "id": "rh_DvymQCbur"
      },
      "execution_count": 17,
      "outputs": []
    },
    {
      "cell_type": "code",
      "source": [
        "y_predict = np.array(y_predict)"
      ],
      "metadata": {
        "id": "6wPuuwIgEJHV"
      },
      "execution_count": 18,
      "outputs": []
    },
    {
      "cell_type": "code",
      "source": [
        "np.sum(np.equal(y_test,y_predict)) / len(y_predict)"
      ],
      "metadata": {
        "colab": {
          "base_uri": "https://localhost:8080/"
        },
        "id": "ZmRI40xHERGN",
        "outputId": "d7e4ed15-6ad1-45d0-ec90-e1c8325c07eb"
      },
      "execution_count": 19,
      "outputs": [
        {
          "output_type": "execute_result",
          "data": {
            "text/plain": [
              "0.7853560682046138"
            ]
          },
          "metadata": {},
          "execution_count": 19
        }
      ]
    }
  ]
}